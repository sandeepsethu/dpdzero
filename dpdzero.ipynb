{
 "cells": [
  {
   "cell_type": "markdown",
   "id": "cb63d8b6",
   "metadata": {},
   "source": [
    "# Data Analysis and Visualization"
   ]
  },
  {
   "cell_type": "markdown",
   "id": "084e8828",
   "metadata": {},
   "source": [
    "Importing required libraries"
   ]
  },
  {
   "cell_type": "code",
   "execution_count": 188,
   "id": "1c0ff988",
   "metadata": {},
   "outputs": [],
   "source": [
    "import pandas as pd\n",
    "import matplotlib.pyplot as plt\n",
    "import seaborn as sns\n",
    "import numpy as np\n",
    "import datetime\n",
    "import openpyxl"
   ]
  },
  {
   "cell_type": "markdown",
   "id": "666081ab",
   "metadata": {},
   "source": [
    "Reading the file path and the corresponding sheets into dataframes"
   ]
  },
  {
   "cell_type": "code",
   "execution_count": 131,
   "id": "b672ae18",
   "metadata": {},
   "outputs": [],
   "source": [
    "file= pd.ExcelFile('./Copy of Data analyst Assignment 1 (1).xlsx')\n",
    "customers=pd.read_excel(file,'customers')\n",
    "loan_details=pd.read_excel(file,'loan details')"
   ]
  },
  {
   "cell_type": "markdown",
   "id": "e646a624",
   "metadata": {},
   "source": [
    "Updating datatype of a few variables"
   ]
  },
  {
   "cell_type": "code",
   "execution_count": 132,
   "id": "a3cf48d9",
   "metadata": {},
   "outputs": [],
   "source": [
    "customers['customer_id']=customers['customer_id'].astype(int)\n",
    "loan_details['loan_number']=loan_details['loan_number'].astype(int)\n",
    "loan_details['customer_id']=loan_details['customer_id'].astype(int)"
   ]
  },
  {
   "cell_type": "markdown",
   "id": "c7d1791f",
   "metadata": {},
   "source": [
    "Taking a look at the dataframes."
   ]
  },
  {
   "cell_type": "code",
   "execution_count": 134,
   "id": "d263649b",
   "metadata": {},
   "outputs": [
    {
     "data": {
      "text/html": [
       "<div>\n",
       "<style scoped>\n",
       "    .dataframe tbody tr th:only-of-type {\n",
       "        vertical-align: middle;\n",
       "    }\n",
       "\n",
       "    .dataframe tbody tr th {\n",
       "        vertical-align: top;\n",
       "    }\n",
       "\n",
       "    .dataframe thead th {\n",
       "        text-align: right;\n",
       "    }\n",
       "</style>\n",
       "<table border=\"1\" class=\"dataframe\">\n",
       "  <thead>\n",
       "    <tr style=\"text-align: right;\">\n",
       "      <th></th>\n",
       "      <th>loan_number</th>\n",
       "      <th>loan_product</th>\n",
       "      <th>amount_pending</th>\n",
       "      <th>due_date</th>\n",
       "      <th>customer_id</th>\n",
       "    </tr>\n",
       "  </thead>\n",
       "  <tbody>\n",
       "    <tr>\n",
       "      <th>0</th>\n",
       "      <td>100</td>\n",
       "      <td>NaN</td>\n",
       "      <td>374.69</td>\n",
       "      <td>2020-12-19</td>\n",
       "      <td>440</td>\n",
       "    </tr>\n",
       "    <tr>\n",
       "      <th>1</th>\n",
       "      <td>101</td>\n",
       "      <td>bnpl</td>\n",
       "      <td>688.80</td>\n",
       "      <td>2021-02-14</td>\n",
       "      <td>555</td>\n",
       "    </tr>\n",
       "    <tr>\n",
       "      <th>2</th>\n",
       "      <td>102</td>\n",
       "      <td>vehicle loan</td>\n",
       "      <td>928.87</td>\n",
       "      <td>2021-03-19</td>\n",
       "      <td>250</td>\n",
       "    </tr>\n",
       "    <tr>\n",
       "      <th>3</th>\n",
       "      <td>103</td>\n",
       "      <td>personal loan</td>\n",
       "      <td>433.99</td>\n",
       "      <td>2020-09-07</td>\n",
       "      <td>180</td>\n",
       "    </tr>\n",
       "    <tr>\n",
       "      <th>4</th>\n",
       "      <td>104</td>\n",
       "      <td>vehicle loan</td>\n",
       "      <td>157.55</td>\n",
       "      <td>2020-10-01</td>\n",
       "      <td>597</td>\n",
       "    </tr>\n",
       "    <tr>\n",
       "      <th>...</th>\n",
       "      <td>...</td>\n",
       "      <td>...</td>\n",
       "      <td>...</td>\n",
       "      <td>...</td>\n",
       "      <td>...</td>\n",
       "    </tr>\n",
       "    <tr>\n",
       "      <th>896</th>\n",
       "      <td>996</td>\n",
       "      <td>personal loan</td>\n",
       "      <td>865.72</td>\n",
       "      <td>2020-12-29</td>\n",
       "      <td>482</td>\n",
       "    </tr>\n",
       "    <tr>\n",
       "      <th>897</th>\n",
       "      <td>997</td>\n",
       "      <td>vehicle loan</td>\n",
       "      <td>685.54</td>\n",
       "      <td>2020-10-13</td>\n",
       "      <td>469</td>\n",
       "    </tr>\n",
       "    <tr>\n",
       "      <th>898</th>\n",
       "      <td>998</td>\n",
       "      <td>personal loan</td>\n",
       "      <td>761.91</td>\n",
       "      <td>2021-06-06</td>\n",
       "      <td>262</td>\n",
       "    </tr>\n",
       "    <tr>\n",
       "      <th>899</th>\n",
       "      <td>999</td>\n",
       "      <td>vehicle loan</td>\n",
       "      <td>394.20</td>\n",
       "      <td>2021-10-22</td>\n",
       "      <td>587</td>\n",
       "    </tr>\n",
       "    <tr>\n",
       "      <th>900</th>\n",
       "      <td>1000</td>\n",
       "      <td>bnpl</td>\n",
       "      <td>649.14</td>\n",
       "      <td>2020-08-02</td>\n",
       "      <td>592</td>\n",
       "    </tr>\n",
       "  </tbody>\n",
       "</table>\n",
       "<p>901 rows × 5 columns</p>\n",
       "</div>"
      ],
      "text/plain": [
       "     loan_number   loan_product  amount_pending   due_date  customer_id\n",
       "0            100            NaN          374.69 2020-12-19          440\n",
       "1            101           bnpl          688.80 2021-02-14          555\n",
       "2            102   vehicle loan          928.87 2021-03-19          250\n",
       "3            103  personal loan          433.99 2020-09-07          180\n",
       "4            104   vehicle loan          157.55 2020-10-01          597\n",
       "..           ...            ...             ...        ...          ...\n",
       "896          996  personal loan          865.72 2020-12-29          482\n",
       "897          997   vehicle loan          685.54 2020-10-13          469\n",
       "898          998  personal loan          761.91 2021-06-06          262\n",
       "899          999   vehicle loan          394.20 2021-10-22          587\n",
       "900         1000           bnpl          649.14 2020-08-02          592\n",
       "\n",
       "[901 rows x 5 columns]"
      ]
     },
     "metadata": {},
     "output_type": "display_data"
    },
    {
     "data": {
      "text/html": [
       "<div>\n",
       "<style scoped>\n",
       "    .dataframe tbody tr th:only-of-type {\n",
       "        vertical-align: middle;\n",
       "    }\n",
       "\n",
       "    .dataframe tbody tr th {\n",
       "        vertical-align: top;\n",
       "    }\n",
       "\n",
       "    .dataframe thead th {\n",
       "        text-align: right;\n",
       "    }\n",
       "</style>\n",
       "<table border=\"1\" class=\"dataframe\">\n",
       "  <thead>\n",
       "    <tr style=\"text-align: right;\">\n",
       "      <th></th>\n",
       "      <th>customer_id</th>\n",
       "      <th>firstname</th>\n",
       "      <th>lastname</th>\n",
       "      <th>email</th>\n",
       "      <th>profession</th>\n",
       "    </tr>\n",
       "  </thead>\n",
       "  <tbody>\n",
       "    <tr>\n",
       "      <th>0</th>\n",
       "      <td>100</td>\n",
       "      <td>Tomasina</td>\n",
       "      <td>Marcellus</td>\n",
       "      <td>Tomasina.Marcellus@yopmail.com</td>\n",
       "      <td>police officer</td>\n",
       "    </tr>\n",
       "    <tr>\n",
       "      <th>1</th>\n",
       "      <td>101</td>\n",
       "      <td>Alex</td>\n",
       "      <td>Rodmann</td>\n",
       "      <td>Alex.Rodmann@yopmail.com</td>\n",
       "      <td>developer</td>\n",
       "    </tr>\n",
       "    <tr>\n",
       "      <th>2</th>\n",
       "      <td>102</td>\n",
       "      <td>Diena</td>\n",
       "      <td>Manolo</td>\n",
       "      <td>Diena.Manolo@yopmail.com</td>\n",
       "      <td>firefighter</td>\n",
       "    </tr>\n",
       "    <tr>\n",
       "      <th>3</th>\n",
       "      <td>103</td>\n",
       "      <td>Cristine</td>\n",
       "      <td>Yuille</td>\n",
       "      <td>Cristine.Yuille@yopmail.com</td>\n",
       "      <td>firefighter</td>\n",
       "    </tr>\n",
       "    <tr>\n",
       "      <th>4</th>\n",
       "      <td>104</td>\n",
       "      <td>Dania</td>\n",
       "      <td>Auberbach</td>\n",
       "      <td>Dania.Auberbach@yopmail.com</td>\n",
       "      <td>doctor</td>\n",
       "    </tr>\n",
       "    <tr>\n",
       "      <th>...</th>\n",
       "      <td>...</td>\n",
       "      <td>...</td>\n",
       "      <td>...</td>\n",
       "      <td>...</td>\n",
       "      <td>...</td>\n",
       "    </tr>\n",
       "    <tr>\n",
       "      <th>719</th>\n",
       "      <td>819</td>\n",
       "      <td>Rochette</td>\n",
       "      <td>Delacourt</td>\n",
       "      <td>Rochette.Delacourt@yopmail.com</td>\n",
       "      <td>police officer</td>\n",
       "    </tr>\n",
       "    <tr>\n",
       "      <th>720</th>\n",
       "      <td>820</td>\n",
       "      <td>Anthia</td>\n",
       "      <td>Gale</td>\n",
       "      <td>Anthia.Gale@yopmail.com</td>\n",
       "      <td>doctor</td>\n",
       "    </tr>\n",
       "    <tr>\n",
       "      <th>721</th>\n",
       "      <td>821</td>\n",
       "      <td>Elvira</td>\n",
       "      <td>Septima</td>\n",
       "      <td>Elvira.Septima@yopmail.com</td>\n",
       "      <td>doctor</td>\n",
       "    </tr>\n",
       "    <tr>\n",
       "      <th>722</th>\n",
       "      <td>822</td>\n",
       "      <td>Albertina</td>\n",
       "      <td>Quinn</td>\n",
       "      <td>Albertina.Quinn@yopmail.com</td>\n",
       "      <td>police officer</td>\n",
       "    </tr>\n",
       "    <tr>\n",
       "      <th>723</th>\n",
       "      <td>823</td>\n",
       "      <td>Merrie</td>\n",
       "      <td>Phi</td>\n",
       "      <td>Merrie.Phi@yopmail.com</td>\n",
       "      <td>police officer</td>\n",
       "    </tr>\n",
       "  </tbody>\n",
       "</table>\n",
       "<p>724 rows × 5 columns</p>\n",
       "</div>"
      ],
      "text/plain": [
       "     customer_id  firstname   lastname                           email  \\\n",
       "0            100   Tomasina  Marcellus  Tomasina.Marcellus@yopmail.com   \n",
       "1            101       Alex    Rodmann        Alex.Rodmann@yopmail.com   \n",
       "2            102      Diena     Manolo        Diena.Manolo@yopmail.com   \n",
       "3            103   Cristine     Yuille     Cristine.Yuille@yopmail.com   \n",
       "4            104      Dania  Auberbach     Dania.Auberbach@yopmail.com   \n",
       "..           ...        ...        ...                             ...   \n",
       "719          819   Rochette  Delacourt  Rochette.Delacourt@yopmail.com   \n",
       "720          820     Anthia       Gale         Anthia.Gale@yopmail.com   \n",
       "721          821     Elvira    Septima      Elvira.Septima@yopmail.com   \n",
       "722          822  Albertina      Quinn     Albertina.Quinn@yopmail.com   \n",
       "723          823     Merrie        Phi          Merrie.Phi@yopmail.com   \n",
       "\n",
       "         profession  \n",
       "0    police officer  \n",
       "1         developer  \n",
       "2       firefighter  \n",
       "3       firefighter  \n",
       "4            doctor  \n",
       "..              ...  \n",
       "719  police officer  \n",
       "720          doctor  \n",
       "721          doctor  \n",
       "722  police officer  \n",
       "723  police officer  \n",
       "\n",
       "[724 rows x 5 columns]"
      ]
     },
     "metadata": {},
     "output_type": "display_data"
    }
   ],
   "source": [
    "display(loan_details,customers)"
   ]
  },
  {
   "cell_type": "markdown",
   "id": "af90624a",
   "metadata": {},
   "source": [
    "Ensuring there are no null values anywhere"
   ]
  },
  {
   "cell_type": "code",
   "execution_count": 135,
   "id": "0e185e3e",
   "metadata": {},
   "outputs": [
    {
     "name": "stdout",
     "output_type": "stream",
     "text": [
      "<class 'pandas.core.frame.DataFrame'>\n",
      "RangeIndex: 724 entries, 0 to 723\n",
      "Data columns (total 5 columns):\n",
      " #   Column       Non-Null Count  Dtype \n",
      "---  ------       --------------  ----- \n",
      " 0   customer_id  724 non-null    int64 \n",
      " 1   firstname    724 non-null    object\n",
      " 2   lastname     724 non-null    object\n",
      " 3   email        724 non-null    object\n",
      " 4   profession   724 non-null    object\n",
      "dtypes: int64(1), object(4)\n",
      "memory usage: 28.4+ KB\n"
     ]
    }
   ],
   "source": [
    "customers.info()"
   ]
  },
  {
   "cell_type": "code",
   "execution_count": 136,
   "id": "7d28dba0",
   "metadata": {},
   "outputs": [
    {
     "name": "stdout",
     "output_type": "stream",
     "text": [
      "<class 'pandas.core.frame.DataFrame'>\n",
      "RangeIndex: 901 entries, 0 to 900\n",
      "Data columns (total 5 columns):\n",
      " #   Column          Non-Null Count  Dtype         \n",
      "---  ------          --------------  -----         \n",
      " 0   loan_number     901 non-null    int64         \n",
      " 1   loan_product    690 non-null    object        \n",
      " 2   amount_pending  901 non-null    float64       \n",
      " 3   due_date        901 non-null    datetime64[ns]\n",
      " 4   customer_id     901 non-null    int64         \n",
      "dtypes: datetime64[ns](1), float64(1), int64(2), object(1)\n",
      "memory usage: 35.3+ KB\n"
     ]
    }
   ],
   "source": [
    "loan_details.info()"
   ]
  },
  {
   "cell_type": "markdown",
   "id": "9f7fc8fa",
   "metadata": {},
   "source": [
    "Quite a few of the loan product values are missing, updating these as unknown"
   ]
  },
  {
   "cell_type": "code",
   "execution_count": 137,
   "id": "4dec61e3",
   "metadata": {},
   "outputs": [],
   "source": [
    "loan_details['loan_product'] = loan_details['loan_product'].fillna(\"Unknown\")\n"
   ]
  },
  {
   "cell_type": "markdown",
   "id": "00d52e72",
   "metadata": {},
   "source": [
    "Checking number of unique customers in loan details and customers tables"
   ]
  },
  {
   "cell_type": "code",
   "execution_count": 139,
   "id": "469449db",
   "metadata": {
    "scrolled": false
   },
   "outputs": [
    {
     "data": {
      "text/plain": [
       "381"
      ]
     },
     "execution_count": 139,
     "metadata": {},
     "output_type": "execute_result"
    }
   ],
   "source": [
    "loan_details['customer_id'].nunique()"
   ]
  },
  {
   "cell_type": "code",
   "execution_count": 140,
   "id": "9f835bbf",
   "metadata": {
    "scrolled": true
   },
   "outputs": [
    {
     "data": {
      "text/plain": [
       "724"
      ]
     },
     "execution_count": 140,
     "metadata": {},
     "output_type": "execute_result"
    }
   ],
   "source": [
    "customers['customer_id'].nunique()"
   ]
  },
  {
   "cell_type": "markdown",
   "id": "9cbbcea7",
   "metadata": {},
   "source": [
    "Inner join of the tables"
   ]
  },
  {
   "cell_type": "code",
   "execution_count": 142,
   "id": "7ec63f87",
   "metadata": {},
   "outputs": [],
   "source": [
    "joined_table = pd.merge(loan_details,customers)"
   ]
  },
  {
   "cell_type": "code",
   "execution_count": 143,
   "id": "1339ccf1",
   "metadata": {},
   "outputs": [
    {
     "data": {
      "text/html": [
       "<div>\n",
       "<style scoped>\n",
       "    .dataframe tbody tr th:only-of-type {\n",
       "        vertical-align: middle;\n",
       "    }\n",
       "\n",
       "    .dataframe tbody tr th {\n",
       "        vertical-align: top;\n",
       "    }\n",
       "\n",
       "    .dataframe thead th {\n",
       "        text-align: right;\n",
       "    }\n",
       "</style>\n",
       "<table border=\"1\" class=\"dataframe\">\n",
       "  <thead>\n",
       "    <tr style=\"text-align: right;\">\n",
       "      <th></th>\n",
       "      <th>loan_number</th>\n",
       "      <th>loan_product</th>\n",
       "      <th>amount_pending</th>\n",
       "      <th>due_date</th>\n",
       "      <th>customer_id</th>\n",
       "      <th>firstname</th>\n",
       "      <th>lastname</th>\n",
       "      <th>email</th>\n",
       "      <th>profession</th>\n",
       "    </tr>\n",
       "  </thead>\n",
       "  <tbody>\n",
       "    <tr>\n",
       "      <th>0</th>\n",
       "      <td>100</td>\n",
       "      <td>Unknown</td>\n",
       "      <td>374.69</td>\n",
       "      <td>2020-12-19</td>\n",
       "      <td>440</td>\n",
       "      <td>Felice</td>\n",
       "      <td>Artie</td>\n",
       "      <td>Felice.Artie@yopmail.com</td>\n",
       "      <td>firefighter</td>\n",
       "    </tr>\n",
       "    <tr>\n",
       "      <th>1</th>\n",
       "      <td>701</td>\n",
       "      <td>vehicle loan</td>\n",
       "      <td>134.00</td>\n",
       "      <td>2021-05-20</td>\n",
       "      <td>440</td>\n",
       "      <td>Felice</td>\n",
       "      <td>Artie</td>\n",
       "      <td>Felice.Artie@yopmail.com</td>\n",
       "      <td>firefighter</td>\n",
       "    </tr>\n",
       "    <tr>\n",
       "      <th>2</th>\n",
       "      <td>824</td>\n",
       "      <td>personal loan</td>\n",
       "      <td>400.62</td>\n",
       "      <td>2021-05-04</td>\n",
       "      <td>440</td>\n",
       "      <td>Felice</td>\n",
       "      <td>Artie</td>\n",
       "      <td>Felice.Artie@yopmail.com</td>\n",
       "      <td>firefighter</td>\n",
       "    </tr>\n",
       "    <tr>\n",
       "      <th>3</th>\n",
       "      <td>101</td>\n",
       "      <td>bnpl</td>\n",
       "      <td>688.80</td>\n",
       "      <td>2021-02-14</td>\n",
       "      <td>555</td>\n",
       "      <td>Clementine</td>\n",
       "      <td>Rolf</td>\n",
       "      <td>Clementine.Rolf@yopmail.com</td>\n",
       "      <td>worker</td>\n",
       "    </tr>\n",
       "    <tr>\n",
       "      <th>4</th>\n",
       "      <td>825</td>\n",
       "      <td>personal loan</td>\n",
       "      <td>538.56</td>\n",
       "      <td>2021-04-14</td>\n",
       "      <td>555</td>\n",
       "      <td>Clementine</td>\n",
       "      <td>Rolf</td>\n",
       "      <td>Clementine.Rolf@yopmail.com</td>\n",
       "      <td>worker</td>\n",
       "    </tr>\n",
       "    <tr>\n",
       "      <th>...</th>\n",
       "      <td>...</td>\n",
       "      <td>...</td>\n",
       "      <td>...</td>\n",
       "      <td>...</td>\n",
       "      <td>...</td>\n",
       "      <td>...</td>\n",
       "      <td>...</td>\n",
       "      <td>...</td>\n",
       "      <td>...</td>\n",
       "    </tr>\n",
       "    <tr>\n",
       "      <th>896</th>\n",
       "      <td>811</td>\n",
       "      <td>vehicle loan</td>\n",
       "      <td>499.93</td>\n",
       "      <td>2021-09-09</td>\n",
       "      <td>267</td>\n",
       "      <td>Tierney</td>\n",
       "      <td>Dannye</td>\n",
       "      <td>Tierney.Dannye@yopmail.com</td>\n",
       "      <td>firefighter</td>\n",
       "    </tr>\n",
       "    <tr>\n",
       "      <th>897</th>\n",
       "      <td>815</td>\n",
       "      <td>Unknown</td>\n",
       "      <td>100.86</td>\n",
       "      <td>2021-07-09</td>\n",
       "      <td>150</td>\n",
       "      <td>Esmeralda</td>\n",
       "      <td>Velick</td>\n",
       "      <td>Esmeralda.Velick@yopmail.com</td>\n",
       "      <td>police officer</td>\n",
       "    </tr>\n",
       "    <tr>\n",
       "      <th>898</th>\n",
       "      <td>816</td>\n",
       "      <td>bnpl</td>\n",
       "      <td>323.68</td>\n",
       "      <td>2021-12-03</td>\n",
       "      <td>101</td>\n",
       "      <td>Alex</td>\n",
       "      <td>Rodmann</td>\n",
       "      <td>Alex.Rodmann@yopmail.com</td>\n",
       "      <td>developer</td>\n",
       "    </tr>\n",
       "    <tr>\n",
       "      <th>899</th>\n",
       "      <td>817</td>\n",
       "      <td>bnpl</td>\n",
       "      <td>115.30</td>\n",
       "      <td>2020-09-16</td>\n",
       "      <td>386</td>\n",
       "      <td>Genevra</td>\n",
       "      <td>Wallis</td>\n",
       "      <td>Genevra.Wallis@yopmail.com</td>\n",
       "      <td>worker</td>\n",
       "    </tr>\n",
       "    <tr>\n",
       "      <th>900</th>\n",
       "      <td>818</td>\n",
       "      <td>bnpl</td>\n",
       "      <td>126.63</td>\n",
       "      <td>2021-10-18</td>\n",
       "      <td>546</td>\n",
       "      <td>Dianemarie</td>\n",
       "      <td>Elvyn</td>\n",
       "      <td>Dianemarie.Elvyn@yopmail.com</td>\n",
       "      <td>police officer</td>\n",
       "    </tr>\n",
       "  </tbody>\n",
       "</table>\n",
       "<p>901 rows × 9 columns</p>\n",
       "</div>"
      ],
      "text/plain": [
       "     loan_number   loan_product  amount_pending   due_date  customer_id  \\\n",
       "0            100        Unknown          374.69 2020-12-19          440   \n",
       "1            701   vehicle loan          134.00 2021-05-20          440   \n",
       "2            824  personal loan          400.62 2021-05-04          440   \n",
       "3            101           bnpl          688.80 2021-02-14          555   \n",
       "4            825  personal loan          538.56 2021-04-14          555   \n",
       "..           ...            ...             ...        ...          ...   \n",
       "896          811   vehicle loan          499.93 2021-09-09          267   \n",
       "897          815        Unknown          100.86 2021-07-09          150   \n",
       "898          816           bnpl          323.68 2021-12-03          101   \n",
       "899          817           bnpl          115.30 2020-09-16          386   \n",
       "900          818           bnpl          126.63 2021-10-18          546   \n",
       "\n",
       "      firstname lastname                         email      profession  \n",
       "0        Felice    Artie      Felice.Artie@yopmail.com     firefighter  \n",
       "1        Felice    Artie      Felice.Artie@yopmail.com     firefighter  \n",
       "2        Felice    Artie      Felice.Artie@yopmail.com     firefighter  \n",
       "3    Clementine     Rolf   Clementine.Rolf@yopmail.com          worker  \n",
       "4    Clementine     Rolf   Clementine.Rolf@yopmail.com          worker  \n",
       "..          ...      ...                           ...             ...  \n",
       "896     Tierney   Dannye    Tierney.Dannye@yopmail.com     firefighter  \n",
       "897   Esmeralda   Velick  Esmeralda.Velick@yopmail.com  police officer  \n",
       "898        Alex  Rodmann      Alex.Rodmann@yopmail.com       developer  \n",
       "899     Genevra   Wallis    Genevra.Wallis@yopmail.com          worker  \n",
       "900  Dianemarie    Elvyn  Dianemarie.Elvyn@yopmail.com  police officer  \n",
       "\n",
       "[901 rows x 9 columns]"
      ]
     },
     "metadata": {},
     "output_type": "display_data"
    }
   ],
   "source": [
    "display(joined_table)"
   ]
  },
  {
   "cell_type": "markdown",
   "id": "ccf3c1fc",
   "metadata": {},
   "source": [
    "Outer join of the tables"
   ]
  },
  {
   "cell_type": "code",
   "execution_count": 144,
   "id": "7d0271db",
   "metadata": {},
   "outputs": [],
   "source": [
    "outer_join = pd.merge(customers, loan_details, on='customer_id', how='outer')"
   ]
  },
  {
   "cell_type": "code",
   "execution_count": 145,
   "id": "fb06a408",
   "metadata": {},
   "outputs": [
    {
     "data": {
      "text/html": [
       "<div>\n",
       "<style scoped>\n",
       "    .dataframe tbody tr th:only-of-type {\n",
       "        vertical-align: middle;\n",
       "    }\n",
       "\n",
       "    .dataframe tbody tr th {\n",
       "        vertical-align: top;\n",
       "    }\n",
       "\n",
       "    .dataframe thead th {\n",
       "        text-align: right;\n",
       "    }\n",
       "</style>\n",
       "<table border=\"1\" class=\"dataframe\">\n",
       "  <thead>\n",
       "    <tr style=\"text-align: right;\">\n",
       "      <th></th>\n",
       "      <th>customer_id</th>\n",
       "      <th>firstname</th>\n",
       "      <th>lastname</th>\n",
       "      <th>email</th>\n",
       "      <th>profession</th>\n",
       "      <th>loan_number</th>\n",
       "      <th>loan_product</th>\n",
       "      <th>amount_pending</th>\n",
       "      <th>due_date</th>\n",
       "    </tr>\n",
       "  </thead>\n",
       "  <tbody>\n",
       "    <tr>\n",
       "      <th>0</th>\n",
       "      <td>100</td>\n",
       "      <td>Tomasina</td>\n",
       "      <td>Marcellus</td>\n",
       "      <td>Tomasina.Marcellus@yopmail.com</td>\n",
       "      <td>police officer</td>\n",
       "      <td>227.0</td>\n",
       "      <td>Unknown</td>\n",
       "      <td>320.20</td>\n",
       "      <td>2020-10-31</td>\n",
       "    </tr>\n",
       "    <tr>\n",
       "      <th>1</th>\n",
       "      <td>100</td>\n",
       "      <td>Tomasina</td>\n",
       "      <td>Marcellus</td>\n",
       "      <td>Tomasina.Marcellus@yopmail.com</td>\n",
       "      <td>police officer</td>\n",
       "      <td>316.0</td>\n",
       "      <td>personal loan</td>\n",
       "      <td>329.55</td>\n",
       "      <td>2021-04-14</td>\n",
       "    </tr>\n",
       "    <tr>\n",
       "      <th>2</th>\n",
       "      <td>100</td>\n",
       "      <td>Tomasina</td>\n",
       "      <td>Marcellus</td>\n",
       "      <td>Tomasina.Marcellus@yopmail.com</td>\n",
       "      <td>police officer</td>\n",
       "      <td>951.0</td>\n",
       "      <td>personal loan</td>\n",
       "      <td>461.32</td>\n",
       "      <td>2020-08-07</td>\n",
       "    </tr>\n",
       "    <tr>\n",
       "      <th>3</th>\n",
       "      <td>101</td>\n",
       "      <td>Alex</td>\n",
       "      <td>Rodmann</td>\n",
       "      <td>Alex.Rodmann@yopmail.com</td>\n",
       "      <td>developer</td>\n",
       "      <td>816.0</td>\n",
       "      <td>bnpl</td>\n",
       "      <td>323.68</td>\n",
       "      <td>2021-12-03</td>\n",
       "    </tr>\n",
       "    <tr>\n",
       "      <th>4</th>\n",
       "      <td>102</td>\n",
       "      <td>Diena</td>\n",
       "      <td>Manolo</td>\n",
       "      <td>Diena.Manolo@yopmail.com</td>\n",
       "      <td>firefighter</td>\n",
       "      <td>458.0</td>\n",
       "      <td>personal loan</td>\n",
       "      <td>132.03</td>\n",
       "      <td>2021-02-19</td>\n",
       "    </tr>\n",
       "    <tr>\n",
       "      <th>...</th>\n",
       "      <td>...</td>\n",
       "      <td>...</td>\n",
       "      <td>...</td>\n",
       "      <td>...</td>\n",
       "      <td>...</td>\n",
       "      <td>...</td>\n",
       "      <td>...</td>\n",
       "      <td>...</td>\n",
       "      <td>...</td>\n",
       "    </tr>\n",
       "    <tr>\n",
       "      <th>1239</th>\n",
       "      <td>819</td>\n",
       "      <td>Rochette</td>\n",
       "      <td>Delacourt</td>\n",
       "      <td>Rochette.Delacourt@yopmail.com</td>\n",
       "      <td>police officer</td>\n",
       "      <td>NaN</td>\n",
       "      <td>NaN</td>\n",
       "      <td>NaN</td>\n",
       "      <td>NaT</td>\n",
       "    </tr>\n",
       "    <tr>\n",
       "      <th>1240</th>\n",
       "      <td>820</td>\n",
       "      <td>Anthia</td>\n",
       "      <td>Gale</td>\n",
       "      <td>Anthia.Gale@yopmail.com</td>\n",
       "      <td>doctor</td>\n",
       "      <td>NaN</td>\n",
       "      <td>NaN</td>\n",
       "      <td>NaN</td>\n",
       "      <td>NaT</td>\n",
       "    </tr>\n",
       "    <tr>\n",
       "      <th>1241</th>\n",
       "      <td>821</td>\n",
       "      <td>Elvira</td>\n",
       "      <td>Septima</td>\n",
       "      <td>Elvira.Septima@yopmail.com</td>\n",
       "      <td>doctor</td>\n",
       "      <td>NaN</td>\n",
       "      <td>NaN</td>\n",
       "      <td>NaN</td>\n",
       "      <td>NaT</td>\n",
       "    </tr>\n",
       "    <tr>\n",
       "      <th>1242</th>\n",
       "      <td>822</td>\n",
       "      <td>Albertina</td>\n",
       "      <td>Quinn</td>\n",
       "      <td>Albertina.Quinn@yopmail.com</td>\n",
       "      <td>police officer</td>\n",
       "      <td>NaN</td>\n",
       "      <td>NaN</td>\n",
       "      <td>NaN</td>\n",
       "      <td>NaT</td>\n",
       "    </tr>\n",
       "    <tr>\n",
       "      <th>1243</th>\n",
       "      <td>823</td>\n",
       "      <td>Merrie</td>\n",
       "      <td>Phi</td>\n",
       "      <td>Merrie.Phi@yopmail.com</td>\n",
       "      <td>police officer</td>\n",
       "      <td>NaN</td>\n",
       "      <td>NaN</td>\n",
       "      <td>NaN</td>\n",
       "      <td>NaT</td>\n",
       "    </tr>\n",
       "  </tbody>\n",
       "</table>\n",
       "<p>1244 rows × 9 columns</p>\n",
       "</div>"
      ],
      "text/plain": [
       "      customer_id  firstname   lastname                           email  \\\n",
       "0             100   Tomasina  Marcellus  Tomasina.Marcellus@yopmail.com   \n",
       "1             100   Tomasina  Marcellus  Tomasina.Marcellus@yopmail.com   \n",
       "2             100   Tomasina  Marcellus  Tomasina.Marcellus@yopmail.com   \n",
       "3             101       Alex    Rodmann        Alex.Rodmann@yopmail.com   \n",
       "4             102      Diena     Manolo        Diena.Manolo@yopmail.com   \n",
       "...           ...        ...        ...                             ...   \n",
       "1239          819   Rochette  Delacourt  Rochette.Delacourt@yopmail.com   \n",
       "1240          820     Anthia       Gale         Anthia.Gale@yopmail.com   \n",
       "1241          821     Elvira    Septima      Elvira.Septima@yopmail.com   \n",
       "1242          822  Albertina      Quinn     Albertina.Quinn@yopmail.com   \n",
       "1243          823     Merrie        Phi          Merrie.Phi@yopmail.com   \n",
       "\n",
       "          profession  loan_number   loan_product  amount_pending   due_date  \n",
       "0     police officer        227.0        Unknown          320.20 2020-10-31  \n",
       "1     police officer        316.0  personal loan          329.55 2021-04-14  \n",
       "2     police officer        951.0  personal loan          461.32 2020-08-07  \n",
       "3          developer        816.0           bnpl          323.68 2021-12-03  \n",
       "4        firefighter        458.0  personal loan          132.03 2021-02-19  \n",
       "...              ...          ...            ...             ...        ...  \n",
       "1239  police officer          NaN            NaN             NaN        NaT  \n",
       "1240          doctor          NaN            NaN             NaN        NaT  \n",
       "1241          doctor          NaN            NaN             NaN        NaT  \n",
       "1242  police officer          NaN            NaN             NaN        NaT  \n",
       "1243  police officer          NaN            NaN             NaN        NaT  \n",
       "\n",
       "[1244 rows x 9 columns]"
      ]
     },
     "metadata": {},
     "output_type": "display_data"
    }
   ],
   "source": [
    "display(outer_join)"
   ]
  },
  {
   "cell_type": "markdown",
   "id": "9480a433",
   "metadata": {},
   "source": [
    "Visualization of loan count vs profession"
   ]
  },
  {
   "cell_type": "code",
   "execution_count": 146,
   "id": "2260aea1",
   "metadata": {
    "scrolled": true
   },
   "outputs": [
    {
     "data": {
      "image/png": "[encoded data removed]",
      "text/plain": [
       "<Figure size 432x288 with 1 Axes>"
      ]
     },
     "metadata": {},
     "output_type": "display_data"
    }
   ],
   "source": [
    "count= sns.countplot(x='profession', data=joined_table, order=joined_table['profession'].value_counts().index)\n",
    "for profession in count.patches:\n",
    "    count.annotate('{:.0f}'.format(profession.get_height()),(profession.get_x()+0.25,profession.get_height()+0.01))\n",
    "plt.suptitle('Distribution of Loan Count by Profession', y=0.98)\n",
    "plt.show()"
   ]
  },
  {
   "cell_type": "markdown",
   "id": "0239f877",
   "metadata": {},
   "source": [
    "Visualization of loan amount vs profession"
   ]
  },
  {
   "cell_type": "code",
   "execution_count": 97,
   "id": "a564a790",
   "metadata": {},
   "outputs": [
    {
     "data": {
      "image/png": "[encoded data removed]",
      "text/plain": [
       "<Figure size 432x288 with 1 Axes>"
      ]
     },
     "metadata": {},
     "output_type": "display_data"
    }
   ],
   "source": [
    "box=sns.boxplot(x=joined_table['profession'],y=joined_table['amount_pending'])\n",
    "plt.suptitle('Distribution of Loan Amount by Profession', y=0.98)\n",
    "plt.show()"
   ]
  },
  {
   "cell_type": "code",
   "execution_count": 98,
   "id": "d793f130",
   "metadata": {},
   "outputs": [
    {
     "data": {
      "text/plain": [
       "Text(0.5, 0.98, 'Loan Details - Amount Pending by Profession')"
      ]
     },
     "execution_count": 98,
     "metadata": {},
     "output_type": "execute_result"
    },
    {
     "data": {
      "image/png": "[encoded data removed]",
      "text/plain": [
       "<Figure size 777.6x432 with 5 Axes>"
      ]
     },
     "metadata": {},
     "output_type": "display_data"
    }
   ],
   "source": [
    "sns.set_theme(style=\"white\", rc={\"axes.facecolor\": (0, 0, 0, 0), 'axes.linewidth':2})\n",
    "palette = sns.color_palette(\"Set2\", 12)\n",
    "g = sns.FacetGrid(joined_table, palette=palette, row=\"profession\", hue=\"profession\", aspect=9, height=1.2)\n",
    "g.map_dataframe(sns.kdeplot, x=\"amount_pending\", fill=True, alpha=1,bw_adjust=.75)\n",
    "g.map_dataframe(sns.kdeplot, x=\"amount_pending\", color='black', bw_adjust=.75)\n",
    "def label(x, color, label):\n",
    "    ax = plt.gca()\n",
    "    ax.text(0, .2, label, color='black', fontsize=13,\n",
    "            ha=\"left\", va=\"center\", transform=ax.transAxes)\n",
    "    \n",
    "g.map(label, \"profession\")\n",
    "g.fig.subplots_adjust(hspace=-.5)\n",
    "g.set_titles(\"\")\n",
    "g.set(yticks=[], xlabel=\"amount_pending\")\n",
    "g.despine( left=True)\n",
    "plt.suptitle('Loan Details - Amount Pending by Profession', y=0.98)"
   ]
  },
  {
   "cell_type": "markdown",
   "id": "4ef33f2b",
   "metadata": {},
   "source": [
    "Visualization of loan count vs loan product"
   ]
  },
  {
   "cell_type": "code",
   "execution_count": 147,
   "id": "0f626bc2",
   "metadata": {
    "scrolled": true
   },
   "outputs": [
    {
     "data": {
      "image/png": "[encoded data removed]",
      "text/plain": [
       "<Figure size 432x288 with 1 Axes>"
      ]
     },
     "metadata": {},
     "output_type": "display_data"
    }
   ],
   "source": [
    "count= sns.countplot(x='loan_product', data=joined_table, order=joined_table['loan_product'].value_counts().index)\n",
    "for loan_product in count.patches:\n",
    "    count.annotate('{:.0f}'.format(loan_product.get_height()),(loan_product.get_x()+0.25,loan_product.get_height()+0.01))\n",
    "plt.suptitle('Distribution of Loan Count by Loan Product', y=0.98)\n",
    "plt.show()"
   ]
  },
  {
   "cell_type": "markdown",
   "id": "7af1b698",
   "metadata": {},
   "source": [
    "Visualization of loan amount vs loan product"
   ]
  },
  {
   "cell_type": "code",
   "execution_count": 148,
   "id": "39e3a9e1",
   "metadata": {
    "scrolled": true
   },
   "outputs": [
    {
     "data": {
      "image/png": "[encoded data removed]",
      "text/plain": [
       "<Figure size 432x288 with 1 Axes>"
      ]
     },
     "metadata": {},
     "output_type": "display_data"
    }
   ],
   "source": [
    "sns.boxplot(x=joined_table['loan_product'],y=joined_table['amount_pending'])\n",
    "plt.suptitle('Distribution of Loan Amount by Loan Product', y=0.98)\n",
    "plt.show()"
   ]
  },
  {
   "cell_type": "markdown",
   "id": "e3801b3a",
   "metadata": {},
   "source": [
    "Finding out customers who have no loans pending"
   ]
  },
  {
   "cell_type": "code",
   "execution_count": 149,
   "id": "92fa431a",
   "metadata": {},
   "outputs": [],
   "source": [
    "inner_merge_index = pd.merge(customers.reset_index(), loan_details, how='inner').set_index(['customer_id']).index"
   ]
  },
  {
   "cell_type": "code",
   "execution_count": 150,
   "id": "4960aa37",
   "metadata": {},
   "outputs": [],
   "source": [
    "no_loans = customers.drop(list(inner_merge_index))"
   ]
  },
  {
   "cell_type": "code",
   "execution_count": 151,
   "id": "c1be3574",
   "metadata": {},
   "outputs": [
    {
     "data": {
      "text/html": [
       "<div>\n",
       "<style scoped>\n",
       "    .dataframe tbody tr th:only-of-type {\n",
       "        vertical-align: middle;\n",
       "    }\n",
       "\n",
       "    .dataframe tbody tr th {\n",
       "        vertical-align: top;\n",
       "    }\n",
       "\n",
       "    .dataframe thead th {\n",
       "        text-align: right;\n",
       "    }\n",
       "</style>\n",
       "<table border=\"1\" class=\"dataframe\">\n",
       "  <thead>\n",
       "    <tr style=\"text-align: right;\">\n",
       "      <th></th>\n",
       "      <th>customer_id</th>\n",
       "      <th>firstname</th>\n",
       "      <th>lastname</th>\n",
       "      <th>email</th>\n",
       "      <th>profession</th>\n",
       "    </tr>\n",
       "  </thead>\n",
       "  <tbody>\n",
       "    <tr>\n",
       "      <th>0</th>\n",
       "      <td>100</td>\n",
       "      <td>Tomasina</td>\n",
       "      <td>Marcellus</td>\n",
       "      <td>Tomasina.Marcellus@yopmail.com</td>\n",
       "      <td>police officer</td>\n",
       "    </tr>\n",
       "    <tr>\n",
       "      <th>1</th>\n",
       "      <td>101</td>\n",
       "      <td>Alex</td>\n",
       "      <td>Rodmann</td>\n",
       "      <td>Alex.Rodmann@yopmail.com</td>\n",
       "      <td>developer</td>\n",
       "    </tr>\n",
       "    <tr>\n",
       "      <th>2</th>\n",
       "      <td>102</td>\n",
       "      <td>Diena</td>\n",
       "      <td>Manolo</td>\n",
       "      <td>Diena.Manolo@yopmail.com</td>\n",
       "      <td>firefighter</td>\n",
       "    </tr>\n",
       "    <tr>\n",
       "      <th>3</th>\n",
       "      <td>103</td>\n",
       "      <td>Cristine</td>\n",
       "      <td>Yuille</td>\n",
       "      <td>Cristine.Yuille@yopmail.com</td>\n",
       "      <td>firefighter</td>\n",
       "    </tr>\n",
       "    <tr>\n",
       "      <th>4</th>\n",
       "      <td>104</td>\n",
       "      <td>Dania</td>\n",
       "      <td>Auberbach</td>\n",
       "      <td>Dania.Auberbach@yopmail.com</td>\n",
       "      <td>doctor</td>\n",
       "    </tr>\n",
       "    <tr>\n",
       "      <th>...</th>\n",
       "      <td>...</td>\n",
       "      <td>...</td>\n",
       "      <td>...</td>\n",
       "      <td>...</td>\n",
       "      <td>...</td>\n",
       "    </tr>\n",
       "    <tr>\n",
       "      <th>719</th>\n",
       "      <td>819</td>\n",
       "      <td>Rochette</td>\n",
       "      <td>Delacourt</td>\n",
       "      <td>Rochette.Delacourt@yopmail.com</td>\n",
       "      <td>police officer</td>\n",
       "    </tr>\n",
       "    <tr>\n",
       "      <th>720</th>\n",
       "      <td>820</td>\n",
       "      <td>Anthia</td>\n",
       "      <td>Gale</td>\n",
       "      <td>Anthia.Gale@yopmail.com</td>\n",
       "      <td>doctor</td>\n",
       "    </tr>\n",
       "    <tr>\n",
       "      <th>721</th>\n",
       "      <td>821</td>\n",
       "      <td>Elvira</td>\n",
       "      <td>Septima</td>\n",
       "      <td>Elvira.Septima@yopmail.com</td>\n",
       "      <td>doctor</td>\n",
       "    </tr>\n",
       "    <tr>\n",
       "      <th>722</th>\n",
       "      <td>822</td>\n",
       "      <td>Albertina</td>\n",
       "      <td>Quinn</td>\n",
       "      <td>Albertina.Quinn@yopmail.com</td>\n",
       "      <td>police officer</td>\n",
       "    </tr>\n",
       "    <tr>\n",
       "      <th>723</th>\n",
       "      <td>823</td>\n",
       "      <td>Merrie</td>\n",
       "      <td>Phi</td>\n",
       "      <td>Merrie.Phi@yopmail.com</td>\n",
       "      <td>police officer</td>\n",
       "    </tr>\n",
       "  </tbody>\n",
       "</table>\n",
       "<p>343 rows × 5 columns</p>\n",
       "</div>"
      ],
      "text/plain": [
       "     customer_id  firstname   lastname                           email  \\\n",
       "0            100   Tomasina  Marcellus  Tomasina.Marcellus@yopmail.com   \n",
       "1            101       Alex    Rodmann        Alex.Rodmann@yopmail.com   \n",
       "2            102      Diena     Manolo        Diena.Manolo@yopmail.com   \n",
       "3            103   Cristine     Yuille     Cristine.Yuille@yopmail.com   \n",
       "4            104      Dania  Auberbach     Dania.Auberbach@yopmail.com   \n",
       "..           ...        ...        ...                             ...   \n",
       "719          819   Rochette  Delacourt  Rochette.Delacourt@yopmail.com   \n",
       "720          820     Anthia       Gale         Anthia.Gale@yopmail.com   \n",
       "721          821     Elvira    Septima      Elvira.Septima@yopmail.com   \n",
       "722          822  Albertina      Quinn     Albertina.Quinn@yopmail.com   \n",
       "723          823     Merrie        Phi          Merrie.Phi@yopmail.com   \n",
       "\n",
       "         profession  \n",
       "0    police officer  \n",
       "1         developer  \n",
       "2       firefighter  \n",
       "3       firefighter  \n",
       "4            doctor  \n",
       "..              ...  \n",
       "719  police officer  \n",
       "720          doctor  \n",
       "721          doctor  \n",
       "722  police officer  \n",
       "723  police officer  \n",
       "\n",
       "[343 rows x 5 columns]"
      ]
     },
     "execution_count": 151,
     "metadata": {},
     "output_type": "execute_result"
    }
   ],
   "source": [
    "no_loans"
   ]
  },
  {
   "cell_type": "markdown",
   "id": "65c08b5f",
   "metadata": {},
   "source": [
    "Displaying customers wiht maximum number of loans"
   ]
  },
  {
   "cell_type": "code",
   "execution_count": 110,
   "id": "3a34af4e",
   "metadata": {
    "scrolled": true
   },
   "outputs": [
    {
     "data": {
      "text/html": [
       "<div>\n",
       "<style scoped>\n",
       "    .dataframe tbody tr th:only-of-type {\n",
       "        vertical-align: middle;\n",
       "    }\n",
       "\n",
       "    .dataframe tbody tr th {\n",
       "        vertical-align: top;\n",
       "    }\n",
       "\n",
       "    .dataframe thead th {\n",
       "        text-align: right;\n",
       "    }\n",
       "</style>\n",
       "<table border=\"1\" class=\"dataframe\">\n",
       "  <thead>\n",
       "    <tr style=\"text-align: right;\">\n",
       "      <th></th>\n",
       "      <th>customer_id</th>\n",
       "      <th>firstname</th>\n",
       "      <th>lastname</th>\n",
       "      <th>email</th>\n",
       "      <th>profession</th>\n",
       "      <th>number_of_loans</th>\n",
       "    </tr>\n",
       "  </thead>\n",
       "  <tbody>\n",
       "    <tr>\n",
       "      <th>191</th>\n",
       "      <td>345</td>\n",
       "      <td>Barbara</td>\n",
       "      <td>Pascia</td>\n",
       "      <td>Barbara.Pascia@yopmail.com</td>\n",
       "      <td>developer</td>\n",
       "      <td>9</td>\n",
       "    </tr>\n",
       "    <tr>\n",
       "      <th>106</th>\n",
       "      <td>241</td>\n",
       "      <td>Joelly</td>\n",
       "      <td>Wenoa</td>\n",
       "      <td>Joelly.Wenoa@yopmail.com</td>\n",
       "      <td>firefighter</td>\n",
       "      <td>7</td>\n",
       "    </tr>\n",
       "    <tr>\n",
       "      <th>267</th>\n",
       "      <td>449</td>\n",
       "      <td>Shaylyn</td>\n",
       "      <td>Hutchison</td>\n",
       "      <td>Shaylyn.Hutchison@yopmail.com</td>\n",
       "      <td>firefighter</td>\n",
       "      <td>7</td>\n",
       "    </tr>\n",
       "    <tr>\n",
       "      <th>90</th>\n",
       "      <td>219</td>\n",
       "      <td>Jacenta</td>\n",
       "      <td>Hailee</td>\n",
       "      <td>Jacenta.Hailee@yopmail.com</td>\n",
       "      <td>doctor</td>\n",
       "      <td>7</td>\n",
       "    </tr>\n",
       "    <tr>\n",
       "      <th>337</th>\n",
       "      <td>538</td>\n",
       "      <td>Kaja</td>\n",
       "      <td>Anton</td>\n",
       "      <td>Kaja.Anton@yopmail.com</td>\n",
       "      <td>doctor</td>\n",
       "      <td>6</td>\n",
       "    </tr>\n",
       "    <tr>\n",
       "      <th>259</th>\n",
       "      <td>438</td>\n",
       "      <td>Kylynn</td>\n",
       "      <td>Urias</td>\n",
       "      <td>Kylynn.Urias@yopmail.com</td>\n",
       "      <td>police officer</td>\n",
       "      <td>6</td>\n",
       "    </tr>\n",
       "    <tr>\n",
       "      <th>210</th>\n",
       "      <td>368</td>\n",
       "      <td>Jsandye</td>\n",
       "      <td>Catie</td>\n",
       "      <td>Jsandye.Catie@yopmail.com</td>\n",
       "      <td>doctor</td>\n",
       "      <td>6</td>\n",
       "    </tr>\n",
       "    <tr>\n",
       "      <th>5</th>\n",
       "      <td>112</td>\n",
       "      <td>Alejandra</td>\n",
       "      <td>Fontana</td>\n",
       "      <td>Alejandra.Fontana@yopmail.com</td>\n",
       "      <td>doctor</td>\n",
       "      <td>6</td>\n",
       "    </tr>\n",
       "    <tr>\n",
       "      <th>276</th>\n",
       "      <td>464</td>\n",
       "      <td>Daphne</td>\n",
       "      <td>Mallon</td>\n",
       "      <td>Daphne.Mallon@yopmail.com</td>\n",
       "      <td>firefighter</td>\n",
       "      <td>6</td>\n",
       "    </tr>\n",
       "    <tr>\n",
       "      <th>221</th>\n",
       "      <td>383</td>\n",
       "      <td>Robbi</td>\n",
       "      <td>Gunn</td>\n",
       "      <td>Robbi.Gunn@yopmail.com</td>\n",
       "      <td>police officer</td>\n",
       "      <td>6</td>\n",
       "    </tr>\n",
       "  </tbody>\n",
       "</table>\n",
       "</div>"
      ],
      "text/plain": [
       "     customer_id  firstname   lastname                          email  \\\n",
       "191          345    Barbara     Pascia     Barbara.Pascia@yopmail.com   \n",
       "106          241     Joelly      Wenoa       Joelly.Wenoa@yopmail.com   \n",
       "267          449    Shaylyn  Hutchison  Shaylyn.Hutchison@yopmail.com   \n",
       "90           219    Jacenta     Hailee     Jacenta.Hailee@yopmail.com   \n",
       "337          538       Kaja      Anton         Kaja.Anton@yopmail.com   \n",
       "259          438     Kylynn      Urias       Kylynn.Urias@yopmail.com   \n",
       "210          368    Jsandye      Catie      Jsandye.Catie@yopmail.com   \n",
       "5            112  Alejandra    Fontana  Alejandra.Fontana@yopmail.com   \n",
       "276          464     Daphne     Mallon      Daphne.Mallon@yopmail.com   \n",
       "221          383      Robbi       Gunn         Robbi.Gunn@yopmail.com   \n",
       "\n",
       "         profession  number_of_loans  \n",
       "191       developer                9  \n",
       "106     firefighter                7  \n",
       "267     firefighter                7  \n",
       "90           doctor                7  \n",
       "337          doctor                6  \n",
       "259  police officer                6  \n",
       "210          doctor                6  \n",
       "5            doctor                6  \n",
       "276     firefighter                6  \n",
       "221  police officer                6  "
      ]
     },
     "execution_count": 110,
     "metadata": {},
     "output_type": "execute_result"
    }
   ],
   "source": [
    "number_of_loans = joined_table.groupby(['customer_id', 'firstname','lastname','email','profession'])['customer_id'].count().reset_index(name='number_of_loans')\n",
    "number_of_loans = number_of_loans.sort_values(by=['number_of_loans'], ascending=False)\n",
    "number_of_loans.nlargest(10, 'number_of_loans')"
   ]
  },
  {
   "cell_type": "markdown",
   "id": "a9585082",
   "metadata": {},
   "source": [
    "Finding customers who owe the most amount"
   ]
  },
  {
   "cell_type": "code",
   "execution_count": 152,
   "id": "6387d258",
   "metadata": {},
   "outputs": [
    {
     "data": {
      "text/html": [
       "<div>\n",
       "<style scoped>\n",
       "    .dataframe tbody tr th:only-of-type {\n",
       "        vertical-align: middle;\n",
       "    }\n",
       "\n",
       "    .dataframe tbody tr th {\n",
       "        vertical-align: top;\n",
       "    }\n",
       "\n",
       "    .dataframe thead th {\n",
       "        text-align: right;\n",
       "    }\n",
       "</style>\n",
       "<table border=\"1\" class=\"dataframe\">\n",
       "  <thead>\n",
       "    <tr style=\"text-align: right;\">\n",
       "      <th></th>\n",
       "      <th>loan_number</th>\n",
       "      <th>loan_product</th>\n",
       "      <th>amount_pending</th>\n",
       "      <th>due_date</th>\n",
       "      <th>customer_id</th>\n",
       "      <th>firstname</th>\n",
       "      <th>lastname</th>\n",
       "      <th>email</th>\n",
       "      <th>profession</th>\n",
       "    </tr>\n",
       "  </thead>\n",
       "  <tbody>\n",
       "    <tr>\n",
       "      <th>338</th>\n",
       "      <td>927</td>\n",
       "      <td>Unknown</td>\n",
       "      <td>999.79</td>\n",
       "      <td>2020-09-03</td>\n",
       "      <td>114</td>\n",
       "      <td>Raquela</td>\n",
       "      <td>Vharat</td>\n",
       "      <td>Raquela.Vharat@yopmail.com</td>\n",
       "      <td>doctor</td>\n",
       "    </tr>\n",
       "    <tr>\n",
       "      <th>55</th>\n",
       "      <td>592</td>\n",
       "      <td>Unknown</td>\n",
       "      <td>999.25</td>\n",
       "      <td>2020-07-26</td>\n",
       "      <td>215</td>\n",
       "      <td>Zondra</td>\n",
       "      <td>Soneson</td>\n",
       "      <td>Zondra.Soneson@yopmail.com</td>\n",
       "      <td>worker</td>\n",
       "    </tr>\n",
       "    <tr>\n",
       "      <th>267</th>\n",
       "      <td>903</td>\n",
       "      <td>personal loan</td>\n",
       "      <td>999.10</td>\n",
       "      <td>2021-09-01</td>\n",
       "      <td>156</td>\n",
       "      <td>Lucille</td>\n",
       "      <td>Judye</td>\n",
       "      <td>Lucille.Judye@yopmail.com</td>\n",
       "      <td>police officer</td>\n",
       "    </tr>\n",
       "    <tr>\n",
       "      <th>649</th>\n",
       "      <td>359</td>\n",
       "      <td>bnpl</td>\n",
       "      <td>998.63</td>\n",
       "      <td>2021-10-30</td>\n",
       "      <td>127</td>\n",
       "      <td>Isa</td>\n",
       "      <td>Raychel</td>\n",
       "      <td>Isa.Raychel@yopmail.com</td>\n",
       "      <td>worker</td>\n",
       "    </tr>\n",
       "    <tr>\n",
       "      <th>171</th>\n",
       "      <td>635</td>\n",
       "      <td>Unknown</td>\n",
       "      <td>998.08</td>\n",
       "      <td>2020-09-30</td>\n",
       "      <td>422</td>\n",
       "      <td>Gusty</td>\n",
       "      <td>Socha</td>\n",
       "      <td>Gusty.Socha@yopmail.com</td>\n",
       "      <td>doctor</td>\n",
       "    </tr>\n",
       "    <tr>\n",
       "      <th>656</th>\n",
       "      <td>363</td>\n",
       "      <td>personal loan</td>\n",
       "      <td>996.01</td>\n",
       "      <td>2021-12-27</td>\n",
       "      <td>123</td>\n",
       "      <td>Brooks</td>\n",
       "      <td>Dominy</td>\n",
       "      <td>Brooks.Dominy@yopmail.com</td>\n",
       "      <td>police officer</td>\n",
       "    </tr>\n",
       "    <tr>\n",
       "      <th>427</th>\n",
       "      <td>236</td>\n",
       "      <td>bnpl</td>\n",
       "      <td>995.04</td>\n",
       "      <td>2021-03-27</td>\n",
       "      <td>268</td>\n",
       "      <td>Lusa</td>\n",
       "      <td>Merell</td>\n",
       "      <td>Lusa.Merell@yopmail.com</td>\n",
       "      <td>firefighter</td>\n",
       "    </tr>\n",
       "    <tr>\n",
       "      <th>627</th>\n",
       "      <td>353</td>\n",
       "      <td>vehicle loan</td>\n",
       "      <td>992.73</td>\n",
       "      <td>2021-03-17</td>\n",
       "      <td>198</td>\n",
       "      <td>Rubie</td>\n",
       "      <td>Bigner</td>\n",
       "      <td>Rubie.Bigner@yopmail.com</td>\n",
       "      <td>firefighter</td>\n",
       "    </tr>\n",
       "    <tr>\n",
       "      <th>35</th>\n",
       "      <td>836</td>\n",
       "      <td>bnpl</td>\n",
       "      <td>991.53</td>\n",
       "      <td>2021-08-29</td>\n",
       "      <td>185</td>\n",
       "      <td>Verla</td>\n",
       "      <td>Jehu</td>\n",
       "      <td>Verla.Jehu@yopmail.com</td>\n",
       "      <td>doctor</td>\n",
       "    </tr>\n",
       "    <tr>\n",
       "      <th>317</th>\n",
       "      <td>254</td>\n",
       "      <td>bnpl</td>\n",
       "      <td>990.99</td>\n",
       "      <td>2021-02-27</td>\n",
       "      <td>219</td>\n",
       "      <td>Jacenta</td>\n",
       "      <td>Hailee</td>\n",
       "      <td>Jacenta.Hailee@yopmail.com</td>\n",
       "      <td>doctor</td>\n",
       "    </tr>\n",
       "  </tbody>\n",
       "</table>\n",
       "</div>"
      ],
      "text/plain": [
       "     loan_number   loan_product  amount_pending   due_date  customer_id  \\\n",
       "338          927        Unknown          999.79 2020-09-03          114   \n",
       "55           592        Unknown          999.25 2020-07-26          215   \n",
       "267          903  personal loan          999.10 2021-09-01          156   \n",
       "649          359           bnpl          998.63 2021-10-30          127   \n",
       "171          635        Unknown          998.08 2020-09-30          422   \n",
       "656          363  personal loan          996.01 2021-12-27          123   \n",
       "427          236           bnpl          995.04 2021-03-27          268   \n",
       "627          353   vehicle loan          992.73 2021-03-17          198   \n",
       "35           836           bnpl          991.53 2021-08-29          185   \n",
       "317          254           bnpl          990.99 2021-02-27          219   \n",
       "\n",
       "    firstname lastname                       email      profession  \n",
       "338   Raquela   Vharat  Raquela.Vharat@yopmail.com          doctor  \n",
       "55     Zondra  Soneson  Zondra.Soneson@yopmail.com          worker  \n",
       "267   Lucille    Judye   Lucille.Judye@yopmail.com  police officer  \n",
       "649       Isa  Raychel     Isa.Raychel@yopmail.com          worker  \n",
       "171     Gusty    Socha     Gusty.Socha@yopmail.com          doctor  \n",
       "656    Brooks   Dominy   Brooks.Dominy@yopmail.com  police officer  \n",
       "427      Lusa   Merell     Lusa.Merell@yopmail.com     firefighter  \n",
       "627     Rubie   Bigner    Rubie.Bigner@yopmail.com     firefighter  \n",
       "35      Verla     Jehu      Verla.Jehu@yopmail.com          doctor  \n",
       "317   Jacenta   Hailee  Jacenta.Hailee@yopmail.com          doctor  "
      ]
     },
     "execution_count": 152,
     "metadata": {},
     "output_type": "execute_result"
    }
   ],
   "source": [
    "joined_table.nlargest(10, 'amount_pending')"
   ]
  },
  {
   "cell_type": "code",
   "execution_count": 153,
   "id": "1361acd5",
   "metadata": {},
   "outputs": [
    {
     "data": {
      "text/html": [
       "<div>\n",
       "<style scoped>\n",
       "    .dataframe tbody tr th:only-of-type {\n",
       "        vertical-align: middle;\n",
       "    }\n",
       "\n",
       "    .dataframe tbody tr th {\n",
       "        vertical-align: top;\n",
       "    }\n",
       "\n",
       "    .dataframe thead th {\n",
       "        text-align: right;\n",
       "    }\n",
       "</style>\n",
       "<table border=\"1\" class=\"dataframe\">\n",
       "  <thead>\n",
       "    <tr style=\"text-align: right;\">\n",
       "      <th></th>\n",
       "      <th>customer_id</th>\n",
       "      <th>firstname</th>\n",
       "      <th>lastname</th>\n",
       "      <th>email</th>\n",
       "      <th>profession</th>\n",
       "      <th>total_amount_pending</th>\n",
       "    </tr>\n",
       "  </thead>\n",
       "  <tbody>\n",
       "    <tr>\n",
       "      <th>106</th>\n",
       "      <td>241</td>\n",
       "      <td>Joelly</td>\n",
       "      <td>Wenoa</td>\n",
       "      <td>Joelly.Wenoa@yopmail.com</td>\n",
       "      <td>firefighter</td>\n",
       "      <td>6231.06</td>\n",
       "    </tr>\n",
       "    <tr>\n",
       "      <th>191</th>\n",
       "      <td>345</td>\n",
       "      <td>Barbara</td>\n",
       "      <td>Pascia</td>\n",
       "      <td>Barbara.Pascia@yopmail.com</td>\n",
       "      <td>developer</td>\n",
       "      <td>5407.13</td>\n",
       "    </tr>\n",
       "    <tr>\n",
       "      <th>259</th>\n",
       "      <td>438</td>\n",
       "      <td>Kylynn</td>\n",
       "      <td>Urias</td>\n",
       "      <td>Kylynn.Urias@yopmail.com</td>\n",
       "      <td>police officer</td>\n",
       "      <td>4217.75</td>\n",
       "    </tr>\n",
       "    <tr>\n",
       "      <th>5</th>\n",
       "      <td>112</td>\n",
       "      <td>Alejandra</td>\n",
       "      <td>Fontana</td>\n",
       "      <td>Alejandra.Fontana@yopmail.com</td>\n",
       "      <td>doctor</td>\n",
       "      <td>3573.94</td>\n",
       "    </tr>\n",
       "    <tr>\n",
       "      <th>8</th>\n",
       "      <td>120</td>\n",
       "      <td>Rosaline</td>\n",
       "      <td>Cleo</td>\n",
       "      <td>Rosaline.Cleo@yopmail.com</td>\n",
       "      <td>worker</td>\n",
       "      <td>3315.98</td>\n",
       "    </tr>\n",
       "    <tr>\n",
       "      <th>50</th>\n",
       "      <td>174</td>\n",
       "      <td>Mildrid</td>\n",
       "      <td>Alabaster</td>\n",
       "      <td>Mildrid.Alabaster@yopmail.com</td>\n",
       "      <td>firefighter</td>\n",
       "      <td>3236.25</td>\n",
       "    </tr>\n",
       "    <tr>\n",
       "      <th>134</th>\n",
       "      <td>277</td>\n",
       "      <td>Philis</td>\n",
       "      <td>Stilwell</td>\n",
       "      <td>Philis.Stilwell@yopmail.com</td>\n",
       "      <td>firefighter</td>\n",
       "      <td>3227.60</td>\n",
       "    </tr>\n",
       "    <tr>\n",
       "      <th>6</th>\n",
       "      <td>114</td>\n",
       "      <td>Raquela</td>\n",
       "      <td>Vharat</td>\n",
       "      <td>Raquela.Vharat@yopmail.com</td>\n",
       "      <td>doctor</td>\n",
       "      <td>3203.64</td>\n",
       "    </tr>\n",
       "    <tr>\n",
       "      <th>90</th>\n",
       "      <td>219</td>\n",
       "      <td>Jacenta</td>\n",
       "      <td>Hailee</td>\n",
       "      <td>Jacenta.Hailee@yopmail.com</td>\n",
       "      <td>doctor</td>\n",
       "      <td>3142.68</td>\n",
       "    </tr>\n",
       "    <tr>\n",
       "      <th>300</th>\n",
       "      <td>492</td>\n",
       "      <td>Rosanne</td>\n",
       "      <td>Irmine</td>\n",
       "      <td>Rosanne.Irmine@yopmail.com</td>\n",
       "      <td>worker</td>\n",
       "      <td>2999.40</td>\n",
       "    </tr>\n",
       "  </tbody>\n",
       "</table>\n",
       "</div>"
      ],
      "text/plain": [
       "     customer_id  firstname   lastname                          email  \\\n",
       "106          241     Joelly      Wenoa       Joelly.Wenoa@yopmail.com   \n",
       "191          345    Barbara     Pascia     Barbara.Pascia@yopmail.com   \n",
       "259          438     Kylynn      Urias       Kylynn.Urias@yopmail.com   \n",
       "5            112  Alejandra    Fontana  Alejandra.Fontana@yopmail.com   \n",
       "8            120   Rosaline       Cleo      Rosaline.Cleo@yopmail.com   \n",
       "50           174    Mildrid  Alabaster  Mildrid.Alabaster@yopmail.com   \n",
       "134          277     Philis   Stilwell    Philis.Stilwell@yopmail.com   \n",
       "6            114    Raquela     Vharat     Raquela.Vharat@yopmail.com   \n",
       "90           219    Jacenta     Hailee     Jacenta.Hailee@yopmail.com   \n",
       "300          492    Rosanne     Irmine     Rosanne.Irmine@yopmail.com   \n",
       "\n",
       "         profession  total_amount_pending  \n",
       "106     firefighter               6231.06  \n",
       "191       developer               5407.13  \n",
       "259  police officer               4217.75  \n",
       "5            doctor               3573.94  \n",
       "8            worker               3315.98  \n",
       "50      firefighter               3236.25  \n",
       "134     firefighter               3227.60  \n",
       "6            doctor               3203.64  \n",
       "90           doctor               3142.68  \n",
       "300          worker               2999.40  "
      ]
     },
     "execution_count": 153,
     "metadata": {},
     "output_type": "execute_result"
    }
   ],
   "source": [
    "sum_of_loans = joined_table.groupby(['customer_id', 'firstname','lastname','email','profession'])['amount_pending'].sum().reset_index(name='total_amount_pending')\n",
    "sum_of_loans.nlargest(10, 'total_amount_pending')"
   ]
  },
  {
   "cell_type": "markdown",
   "id": "c5070b85",
   "metadata": {},
   "source": [
    "Calculating days past due date"
   ]
  },
  {
   "cell_type": "code",
   "execution_count": 158,
   "id": "50c1151f",
   "metadata": {},
   "outputs": [],
   "source": [
    "def count_days(df):    \n",
    "    df['days_past_due_date'] = df.apply(lambda x: (datetime.datetime.today() - x.due_date).days, axis=1)\n",
    "    return df"
   ]
  },
  {
   "cell_type": "code",
   "execution_count": 159,
   "id": "117211d8",
   "metadata": {},
   "outputs": [],
   "source": [
    "final_table = count_days(joined_table)"
   ]
  },
  {
   "cell_type": "markdown",
   "id": "2e0a7d53",
   "metadata": {},
   "source": [
    "Visualizing Days past due date"
   ]
  },
  {
   "cell_type": "code",
   "execution_count": 160,
   "id": "59918c69",
   "metadata": {
    "scrolled": true
   },
   "outputs": [
    {
     "data": {
      "image/png": "[encoded data removed]",
      "text/plain": [
       "<Figure size 360x360 with 1 Axes>"
      ]
     },
     "metadata": {},
     "output_type": "display_data"
    }
   ],
   "source": [
    "sns.displot(final_table, x=\"days_past_due_date\", kind=\"kde\", bw_adjust=.25)\n",
    "plt.suptitle('Distribution of Days Past Due Date', y=0.98)\n",
    "plt.show()"
   ]
  },
  {
   "cell_type": "code",
   "execution_count": 161,
   "id": "90f1370f",
   "metadata": {
    "scrolled": true
   },
   "outputs": [
    {
     "data": {
      "image/png": "[encoded data removed]",
      "text/plain": [
       "<Figure size 360x360 with 1 Axes>"
      ]
     },
     "metadata": {},
     "output_type": "display_data"
    }
   ],
   "source": [
    "sns.displot(final_table, x=\"days_past_due_date\")\n",
    "plt.suptitle('Distribution of Days Past Due Date', y=0.98)\n",
    "plt.show()"
   ]
  },
  {
   "cell_type": "code",
   "execution_count": 162,
   "id": "5b2ca7a9",
   "metadata": {
    "scrolled": true
   },
   "outputs": [
    {
     "data": {
      "image/png": "[encoded data removed]",
      "text/plain": [
       "<Figure size 432x288 with 1 Axes>"
      ]
     },
     "metadata": {},
     "output_type": "display_data"
    }
   ],
   "source": [
    "sns.histplot(data = final_table, x = \"days_past_due_date\", kde = True)\n",
    "plt.suptitle('Distribution of Days Past Due Date', y=0.98)\n",
    "plt.show()"
   ]
  },
  {
   "cell_type": "markdown",
   "id": "18f9aafa",
   "metadata": {},
   "source": [
    "Aggregating customer data"
   ]
  },
  {
   "cell_type": "code",
   "execution_count": 127,
   "id": "e70f7ab2",
   "metadata": {},
   "outputs": [],
   "source": [
    "customer_aggregate= joined_table.groupby(['customer_id', 'firstname','lastname','email','profession']).agg(\n",
    "    Total_Amount_Pending=('amount_pending', np.sum),\n",
    "    Average_Due_Date=('due_date', np.mean),\n",
    "    Last_Due_Date=('due_date', np.max))"
   ]
  },
  {
   "cell_type": "code",
   "execution_count": 128,
   "id": "1ce62d8d",
   "metadata": {},
   "outputs": [
    {
     "data": {
      "text/html": [
       "<div>\n",
       "<style scoped>\n",
       "    .dataframe tbody tr th:only-of-type {\n",
       "        vertical-align: middle;\n",
       "    }\n",
       "\n",
       "    .dataframe tbody tr th {\n",
       "        vertical-align: top;\n",
       "    }\n",
       "\n",
       "    .dataframe thead th {\n",
       "        text-align: right;\n",
       "    }\n",
       "</style>\n",
       "<table border=\"1\" class=\"dataframe\">\n",
       "  <thead>\n",
       "    <tr style=\"text-align: right;\">\n",
       "      <th></th>\n",
       "      <th></th>\n",
       "      <th></th>\n",
       "      <th></th>\n",
       "      <th></th>\n",
       "      <th>Total_Amount_Pending</th>\n",
       "      <th>Average_Due_Date</th>\n",
       "      <th>Last_Due_Date</th>\n",
       "    </tr>\n",
       "    <tr>\n",
       "      <th>customer_id</th>\n",
       "      <th>firstname</th>\n",
       "      <th>lastname</th>\n",
       "      <th>email</th>\n",
       "      <th>profession</th>\n",
       "      <th></th>\n",
       "      <th></th>\n",
       "      <th></th>\n",
       "    </tr>\n",
       "  </thead>\n",
       "  <tbody>\n",
       "    <tr>\n",
       "      <th>100</th>\n",
       "      <th>Tomasina</th>\n",
       "      <th>Marcellus</th>\n",
       "      <th>Tomasina.Marcellus@yopmail.com</th>\n",
       "      <th>police officer</th>\n",
       "      <td>1111.07</td>\n",
       "      <td>2020-11-26 16:00:00</td>\n",
       "      <td>2021-04-14</td>\n",
       "    </tr>\n",
       "    <tr>\n",
       "      <th>101</th>\n",
       "      <th>Alex</th>\n",
       "      <th>Rodmann</th>\n",
       "      <th>Alex.Rodmann@yopmail.com</th>\n",
       "      <th>developer</th>\n",
       "      <td>323.68</td>\n",
       "      <td>2021-12-03 00:00:00</td>\n",
       "      <td>2021-12-03</td>\n",
       "    </tr>\n",
       "    <tr>\n",
       "      <th>102</th>\n",
       "      <th>Diena</th>\n",
       "      <th>Manolo</th>\n",
       "      <th>Diena.Manolo@yopmail.com</th>\n",
       "      <th>firefighter</th>\n",
       "      <td>673.78</td>\n",
       "      <td>2021-01-08 00:00:00</td>\n",
       "      <td>2021-02-19</td>\n",
       "    </tr>\n",
       "    <tr>\n",
       "      <th>103</th>\n",
       "      <th>Cristine</th>\n",
       "      <th>Yuille</th>\n",
       "      <th>Cristine.Yuille@yopmail.com</th>\n",
       "      <th>firefighter</th>\n",
       "      <td>1540.29</td>\n",
       "      <td>2021-09-01 16:00:00</td>\n",
       "      <td>2021-12-21</td>\n",
       "    </tr>\n",
       "    <tr>\n",
       "      <th>110</th>\n",
       "      <th>Sashenka</th>\n",
       "      <th>Merell</th>\n",
       "      <th>Sashenka.Merell@yopmail.com</th>\n",
       "      <th>developer</th>\n",
       "      <td>1864.41</td>\n",
       "      <td>2021-04-18 06:00:00</td>\n",
       "      <td>2021-10-09</td>\n",
       "    </tr>\n",
       "    <tr>\n",
       "      <th>...</th>\n",
       "      <th>...</th>\n",
       "      <th>...</th>\n",
       "      <th>...</th>\n",
       "      <th>...</th>\n",
       "      <td>...</td>\n",
       "      <td>...</td>\n",
       "      <td>...</td>\n",
       "    </tr>\n",
       "    <tr>\n",
       "      <th>593</th>\n",
       "      <th>Brandise</th>\n",
       "      <th>Jerold</th>\n",
       "      <th>Brandise.Jerold@yopmail.com</th>\n",
       "      <th>developer</th>\n",
       "      <td>117.41</td>\n",
       "      <td>2021-01-08 00:00:00</td>\n",
       "      <td>2021-01-08</td>\n",
       "    </tr>\n",
       "    <tr>\n",
       "      <th>594</th>\n",
       "      <th>Flo</th>\n",
       "      <th>Natalia</th>\n",
       "      <th>Flo.Natalia@yopmail.com</th>\n",
       "      <th>firefighter</th>\n",
       "      <td>2038.26</td>\n",
       "      <td>2021-02-08 00:00:00</td>\n",
       "      <td>2021-11-07</td>\n",
       "    </tr>\n",
       "    <tr>\n",
       "      <th>595</th>\n",
       "      <th>Oralee</th>\n",
       "      <th>Moseley</th>\n",
       "      <th>Oralee.Moseley@yopmail.com</th>\n",
       "      <th>doctor</th>\n",
       "      <td>2657.89</td>\n",
       "      <td>2021-07-21 00:00:00</td>\n",
       "      <td>2021-10-27</td>\n",
       "    </tr>\n",
       "    <tr>\n",
       "      <th>597</th>\n",
       "      <th>Hannis</th>\n",
       "      <th>Kravits</th>\n",
       "      <th>Hannis.Kravits@yopmail.com</th>\n",
       "      <th>firefighter</th>\n",
       "      <td>301.27</td>\n",
       "      <td>2020-10-14 12:00:00</td>\n",
       "      <td>2020-10-28</td>\n",
       "    </tr>\n",
       "    <tr>\n",
       "      <th>598</th>\n",
       "      <th>Nonnah</th>\n",
       "      <th>Podvin</th>\n",
       "      <th>Nonnah.Podvin@yopmail.com</th>\n",
       "      <th>developer</th>\n",
       "      <td>564.83</td>\n",
       "      <td>2020-08-07 00:00:00</td>\n",
       "      <td>2020-08-07</td>\n",
       "    </tr>\n",
       "  </tbody>\n",
       "</table>\n",
       "<p>381 rows × 3 columns</p>\n",
       "</div>"
      ],
      "text/plain": [
       "                                                                               Total_Amount_Pending  \\\n",
       "customer_id firstname lastname  email                          profession                             \n",
       "100         Tomasina  Marcellus Tomasina.Marcellus@yopmail.com police officer               1111.07   \n",
       "101         Alex      Rodmann   Alex.Rodmann@yopmail.com       developer                     323.68   \n",
       "102         Diena     Manolo    Diena.Manolo@yopmail.com       firefighter                   673.78   \n",
       "103         Cristine  Yuille    Cristine.Yuille@yopmail.com    firefighter                  1540.29   \n",
       "110         Sashenka  Merell    Sashenka.Merell@yopmail.com    developer                    1864.41   \n",
       "...                                                                                             ...   \n",
       "593         Brandise  Jerold    Brandise.Jerold@yopmail.com    developer                     117.41   \n",
       "594         Flo       Natalia   Flo.Natalia@yopmail.com        firefighter                  2038.26   \n",
       "595         Oralee    Moseley   Oralee.Moseley@yopmail.com     doctor                       2657.89   \n",
       "597         Hannis    Kravits   Hannis.Kravits@yopmail.com     firefighter                   301.27   \n",
       "598         Nonnah    Podvin    Nonnah.Podvin@yopmail.com      developer                     564.83   \n",
       "\n",
       "                                                                                 Average_Due_Date  \\\n",
       "customer_id firstname lastname  email                          profession                           \n",
       "100         Tomasina  Marcellus Tomasina.Marcellus@yopmail.com police officer 2020-11-26 16:00:00   \n",
       "101         Alex      Rodmann   Alex.Rodmann@yopmail.com       developer      2021-12-03 00:00:00   \n",
       "102         Diena     Manolo    Diena.Manolo@yopmail.com       firefighter    2021-01-08 00:00:00   \n",
       "103         Cristine  Yuille    Cristine.Yuille@yopmail.com    firefighter    2021-09-01 16:00:00   \n",
       "110         Sashenka  Merell    Sashenka.Merell@yopmail.com    developer      2021-04-18 06:00:00   \n",
       "...                                                                                           ...   \n",
       "593         Brandise  Jerold    Brandise.Jerold@yopmail.com    developer      2021-01-08 00:00:00   \n",
       "594         Flo       Natalia   Flo.Natalia@yopmail.com        firefighter    2021-02-08 00:00:00   \n",
       "595         Oralee    Moseley   Oralee.Moseley@yopmail.com     doctor         2021-07-21 00:00:00   \n",
       "597         Hannis    Kravits   Hannis.Kravits@yopmail.com     firefighter    2020-10-14 12:00:00   \n",
       "598         Nonnah    Podvin    Nonnah.Podvin@yopmail.com      developer      2020-08-07 00:00:00   \n",
       "\n",
       "                                                                              Last_Due_Date  \n",
       "customer_id firstname lastname  email                          profession                    \n",
       "100         Tomasina  Marcellus Tomasina.Marcellus@yopmail.com police officer    2021-04-14  \n",
       "101         Alex      Rodmann   Alex.Rodmann@yopmail.com       developer         2021-12-03  \n",
       "102         Diena     Manolo    Diena.Manolo@yopmail.com       firefighter       2021-02-19  \n",
       "103         Cristine  Yuille    Cristine.Yuille@yopmail.com    firefighter       2021-12-21  \n",
       "110         Sashenka  Merell    Sashenka.Merell@yopmail.com    developer         2021-10-09  \n",
       "...                                                                                     ...  \n",
       "593         Brandise  Jerold    Brandise.Jerold@yopmail.com    developer         2021-01-08  \n",
       "594         Flo       Natalia   Flo.Natalia@yopmail.com        firefighter       2021-11-07  \n",
       "595         Oralee    Moseley   Oralee.Moseley@yopmail.com     doctor            2021-10-27  \n",
       "597         Hannis    Kravits   Hannis.Kravits@yopmail.com     firefighter       2020-10-28  \n",
       "598         Nonnah    Podvin    Nonnah.Podvin@yopmail.com      developer         2020-08-07  \n",
       "\n",
       "[381 rows x 3 columns]"
      ]
     },
     "execution_count": 128,
     "metadata": {},
     "output_type": "execute_result"
    }
   ],
   "source": [
    "customer_aggregate"
   ]
  },
  {
   "cell_type": "markdown",
   "id": "2004af3b",
   "metadata": {},
   "source": [
    "Visualizing Distribution of number of loans:\n"
   ]
  },
  {
   "cell_type": "code",
   "execution_count": 169,
   "id": "05a02c08",
   "metadata": {},
   "outputs": [
    {
     "data": {
      "image/png": "[encoded data removed]",
      "text/plain": [
       "<Figure size 432x288 with 1 Axes>"
      ]
     },
     "metadata": {},
     "output_type": "display_data"
    }
   ],
   "source": [
    "sns.histplot(data = number_of_loans, x = \"number_of_loans\", kde = True)\n",
    "plt.suptitle('Distribution of Number of Loans by Each Customer', y=0.98)\n",
    "plt.show()"
   ]
  },
  {
   "cell_type": "code",
   "execution_count": 171,
   "id": "92815347",
   "metadata": {},
   "outputs": [
    {
     "data": {
      "text/plain": [
       "Text(0.5, 0.98, 'Number of Loans by Profession')"
      ]
     },
     "execution_count": 171,
     "metadata": {},
     "output_type": "execute_result"
    },
    {
     "data": {
      "image/png": "[encoded data removed]",
      "text/plain": [
       "<Figure size 777.6x432 with 5 Axes>"
      ]
     },
     "metadata": {},
     "output_type": "display_data"
    }
   ],
   "source": [
    "sns.set_theme(style=\"white\", rc={\"axes.facecolor\": (0, 0, 0, 0), 'axes.linewidth':2})\n",
    "palette = sns.color_palette(\"Set2\", 12)\n",
    "g = sns.FacetGrid(number_of_loans, palette=palette, row=\"profession\", hue=\"profession\", aspect=9, height=1.2)\n",
    "g.map_dataframe(sns.kdeplot, x=\"number_of_loans\", fill=True, alpha=1,bw_adjust=.75)\n",
    "g.map_dataframe(sns.kdeplot, x=\"number_of_loans\", color='black', bw_adjust=.75)\n",
    "def label(x, color, label):\n",
    "    ax = plt.gca()\n",
    "    ax.text(0, .2, label, color='black', fontsize=13,\n",
    "            ha=\"left\", va=\"center\", transform=ax.transAxes)\n",
    "    \n",
    "g.map(label, \"profession\")\n",
    "g.fig.subplots_adjust(hspace=-.5)\n",
    "g.set_titles(\"\")\n",
    "g.set(yticks=[], xlabel=\"number_of_loans\")\n",
    "g.despine( left=True)\n",
    "plt.suptitle('Number of Loans by Profession', y=0.98)"
   ]
  },
  {
   "cell_type": "markdown",
   "id": "e93f9bd8",
   "metadata": {},
   "source": [
    "Distribution of loan count vs profession and loan product"
   ]
  },
  {
   "cell_type": "code",
   "execution_count": 174,
   "id": "1be3766f",
   "metadata": {},
   "outputs": [
    {
     "data": {
      "image/png": "[encoded data removed]",
      "text/plain": [
       "<Figure size 432x288 with 1 Axes>"
      ]
     },
     "metadata": {},
     "output_type": "display_data"
    }
   ],
   "source": [
    "sns.countplot(x ='profession', hue = \"loan_product\", data = joined_table)\n",
    "plt.suptitle('Loan Count by Profession and Loan Product', y=0.98)\n",
    "\n",
    "legend = plt.legend(bbox_to_anchor=(1.05, 1), loc=2, borderaxespad=0.)\n",
    "frame = legend.get_frame()\n",
    "frame.set_facecolor('white')\n",
    "# Show the plot\n",
    "plt.show()"
   ]
  },
  {
   "cell_type": "markdown",
   "id": "69e9b5bb",
   "metadata": {},
   "source": [
    "Count of unique customers by professions who have taken out loans"
   ]
  },
  {
   "cell_type": "code",
   "execution_count": 175,
   "id": "24d4fcab",
   "metadata": {},
   "outputs": [
    {
     "data": {
      "image/png": "[encoded data removed]",
      "text/plain": [
       "<Figure size 432x288 with 1 Axes>"
      ]
     },
     "metadata": {},
     "output_type": "display_data"
    }
   ],
   "source": [
    "count= sns.countplot(x='profession', data=number_of_loans, order=number_of_loans['profession'].value_counts().index)\n",
    "for profession in count.patches:\n",
    "    count.annotate('{:.0f}'.format(profession.get_height()),(profession.get_x()+0.25,profession.get_height()+0.01))\n",
    "plt.suptitle('Count of unique loanees by professions', y=0.98)\n",
    "plt.show()"
   ]
  },
  {
   "cell_type": "code",
   "execution_count": 176,
   "id": "c25b8e61",
   "metadata": {},
   "outputs": [
    {
     "data": {
      "image/png": "[encoded data removed]",
      "text/plain": [
       "<Figure size 432x288 with 1 Axes>"
      ]
     },
     "metadata": {},
     "output_type": "display_data"
    }
   ],
   "source": [
    "box=sns.boxplot(x=sum_of_loans['profession'],y=sum_of_loans['total_amount_pending'])\n",
    "plt.suptitle('Distribution of Total Loan Amount by Profession', y=0.98)\n",
    "plt.show()"
   ]
  },
  {
   "cell_type": "markdown",
   "id": "0b7bbc0d",
   "metadata": {},
   "source": [
    "Exporting the tables which have been created to a new excel file."
   ]
  },
  {
   "cell_type": "code",
   "execution_count": 186,
   "id": "b07ad61d",
   "metadata": {},
   "outputs": [],
   "source": [
    "final_aggregate= customer_aggregate.merge(number_of_loans, how='inner', on='customer_id')"
   ]
  },
  {
   "cell_type": "code",
   "execution_count": 187,
   "id": "5d0d7739",
   "metadata": {},
   "outputs": [],
   "source": [
    "with pd.ExcelWriter('Views.xlsx') as writer:\n",
    "    customers.to_excel(writer, sheet_name='customers', index=False)\n",
    "    loan_details.to_excel(writer, sheet_name='loan details', index=False)\n",
    "    joined_table.to_excel(writer, sheet_name='inner join', index=False)\n",
    "    outer_join.to_excel(writer, sheet_name='outer join', index=False)\n",
    "    no_loans.to_excel(writer, sheet_name='customers with no loans', index=False)\n",
    "    final_table.to_excel(writer, sheet_name='days past due date', index=False)\n",
    "    final_aggregate.to_excel(writer, sheet_name='customer aggregate')"
   ]
  }
 ],
 "metadata": {
  "kernelspec": {
   "display_name": "Python 3 (ipykernel)",
   "language": "python",
   "name": "python3"
  },
  "language_info": {
   "codemirror_mode": {
    "name": "ipython",
    "version": 3
   },
   "file_extension": ".py",
   "mimetype": "text/x-python",
   "name": "python",
   "nbconvert_exporter": "python",
   "pygments_lexer": "ipython3",
   "version": "3.9.12"
  }
 },
 "nbformat": 4,
 "nbformat_minor": 5
}
